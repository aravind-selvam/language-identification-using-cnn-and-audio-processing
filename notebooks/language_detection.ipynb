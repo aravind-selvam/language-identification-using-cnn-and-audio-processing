{
  "nbformat": 4,
  "nbformat_minor": 0,
  "metadata": {
    "colab": {
      "provenance": [],
      "collapsed_sections": [],
      "machine_shape": "hm",
      "authorship_tag": "ABX9TyMd6oI5EJJAwqNqRvh8VEK4",
      "include_colab_link": true
    },
    "kernelspec": {
      "name": "python3",
      "display_name": "Python 3"
    },
    "language_info": {
      "name": "python"
    },
    "accelerator": "GPU",
    "gpuClass": "premium"
  },
  "cells": [
    {
      "cell_type": "markdown",
      "metadata": {
        "id": "view-in-github",
        "colab_type": "text"
      },
      "source": [
        "<a href=\"https://colab.research.google.com/github/Deep-Learning-01/language-detection-using-cnn-pytroch/blob/main/language_detection.ipynb\" target=\"_parent\"><img src=\"https://colab.research.google.com/assets/colab-badge.svg\" alt=\"Open In Colab\"/></a>"
      ]
    },
    {
      "cell_type": "code",
      "execution_count": null,
      "metadata": {
        "id": "GyxGlGkC6Zdq",
        "colab": {
          "base_uri": "https://localhost:8080/"
        },
        "outputId": "971b11dd-01b8-46ce-a760-2f7fd364ce81"
      },
      "outputs": [
        {
          "output_type": "stream",
          "name": "stdout",
          "text": [
            "Mounted at /content/drive\n"
          ]
        }
      ],
      "source": [
        "from google.colab import drive\n",
        "drive.mount('/content/drive', force_remount=True)"
      ]
    },
    {
      "cell_type": "code",
      "source": [
        "import os\n",
        "import IPython.display as ipd\n",
        "import matplotlib.pyplot as plt\n",
        "import numpy as np\n",
        "from scipy.io import wavfile\n",
        "import warnings\n",
        "import zipfile\n",
        "import pandas as pd\n",
        "from sklearn import preprocessing\n",
        "\n",
        "warnings.filterwarnings(\"ignore\")"
      ],
      "metadata": {
        "id": "13Tc0Q1eCahv"
      },
      "execution_count": null,
      "outputs": []
    },
    {
      "cell_type": "code",
      "source": [
        "raw_zip_path = 'drive/MyDrive/004_Aravind/Language Identification/Dataset/raw_data/Subset of Language data.zip'\n",
        "target_dir = 'final_data'\n",
        "os.makedirs(target_dir)\n",
        "\n",
        "with zipfile.ZipFile(raw_zip_path,\"r\") as zip_f:\n",
        "    zip_f.extractall(target_dir)"
      ],
      "metadata": {
        "id": "z-eeMlssRnSj"
      },
      "execution_count": null,
      "outputs": []
    },
    {
      "cell_type": "code",
      "source": [
        "audio_dir1 = os.path.join(target_dir,'Subset of Language data')\n",
        "os.listdir(audio_dir1)"
      ],
      "metadata": {
        "colab": {
          "base_uri": "https://localhost:8080/"
        },
        "id": "Q26oWM6fvVsa",
        "outputId": "d30886a8-43fa-4146-da8c-f0113bf4fcb9"
      },
      "execution_count": null,
      "outputs": [
        {
          "output_type": "execute_result",
          "data": {
            "text/plain": [
              "['Kannada', 'Tamil', 'Telugu', 'Hindi']"
            ]
          },
          "metadata": {},
          "execution_count": 4
        }
      ]
    },
    {
      "cell_type": "code",
      "source": [
        "classes = []\n",
        "for i in os.listdir(audio_dir1):\n",
        "    classes.append(i)\n",
        "    class_path = audio_dir1 + '/' + str(i)\n",
        "    audio_clips = os.listdir(class_path)\n",
        "    print(f\"No. of .mp3 files in audio {i} folder = \",len(audio_clips))"
      ],
      "metadata": {
        "colab": {
          "base_uri": "https://localhost:8080/"
        },
        "id": "heuWSkze0eBO",
        "outputId": "7ba6c764-718f-4877-8009-a2b0e41cac4a"
      },
      "execution_count": null,
      "outputs": [
        {
          "output_type": "stream",
          "name": "stdout",
          "text": [
            "No. of .mp3 files in audio Kannada folder =  3427\n",
            "No. of .mp3 files in audio Tamil folder =  5567\n",
            "No. of .mp3 files in audio Telugu folder =  7173\n",
            "No. of .mp3 files in audio Hindi folder =  7001\n"
          ]
        }
      ]
    },
    {
      "cell_type": "code",
      "source": [
        "from os import path\n",
        "from pydub import AudioSegment\n",
        "\n",
        "# os.makedirs(\"final_wav\", exist_ok=True)\n",
        "\n",
        "# for folder in os.listdir(audio_dir1):\n",
        "#     class_path = audio_dir1 + '/' + str(folder)\n",
        "#     for count, files in enumerate(os.listdir(class_path)):\n",
        "#       src = f\"{audio_dir1}/{folder}/{files}\"\n",
        "#       file_name = f\"{folder}-{str(count)}.wav\"\n",
        "#       dst = f\"final_wav/{folder}\"\n",
        "#       os.makedirs(dst, exist_ok=True)\n",
        "#       dst = f\"final_wav/{folder}/{file_name}\"\n",
        "#       sound = AudioSegment.from_mp3(src)\n",
        "#       sound.export(dst, format=\"wav\")"
      ],
      "metadata": {
        "id": "C-tS3zBaxBsV"
      },
      "execution_count": null,
      "outputs": []
    },
    {
      "cell_type": "code",
      "source": [
        "# for folder in os.listdir(audio_dir1):\n",
        "#     class_path = audio_dir1 + '/' + str(folder)\n",
        "#     for count, files in enumerate(os.listdir(class_path)):\n",
        "#         try:\n",
        "#             dst = f\"{folder}-{str(count)}.mp3\"\n",
        "#             src =f\"{audio_dir1}/{folder}/{files}\"  \n",
        "#             dst =f\"{audio_dir1}/{folder}/{dst}\"\n",
        "#             os.rename(src, dst)\n",
        "#         except FileExistsError:\n",
        "#              pass"
      ],
      "metadata": {
        "id": "oJOM-4ERColZ"
      },
      "execution_count": null,
      "outputs": []
    },
    {
      "cell_type": "code",
      "source": [
        "import pandas as pd\n",
        "from sklearn import preprocessing\n",
        "\n",
        "wav_dir = '/content/final_wav'\n",
        "# Create metadata dictionary\n",
        "metadata = {}\n",
        "for label in os.listdir(wav_dir):\n",
        "    class_path = wav_dir + '/' + str(label)\n",
        "    audio_clips = os.listdir(class_path)\n",
        "    for filename in audio_clips: \n",
        "        metadata[filename] = label\n",
        "\n",
        "# Create a metadata csv file\n",
        "metadata = pd.DataFrame.from_dict(metadata, orient='index').reset_index().sort_values(by=0)\n",
        "metadata.columns = ['filename', 'foldername']\n",
        "le = preprocessing.LabelEncoder()\n",
        "metadata['labels'] = le.fit_transform(metadata.foldername)\n",
        "metadata.to_csv('metadata.csv', index=False)\n",
        "metadata"
      ],
      "metadata": {
        "id": "YT3bJfeyC0cU",
        "colab": {
          "base_uri": "https://localhost:8080/",
          "height": 423
        },
        "outputId": "56ac64f6-32a0-4774-de3c-f5e2692544e4"
      },
      "execution_count": null,
      "outputs": [
        {
          "output_type": "execute_result",
          "data": {
            "text/plain": [
              "              filename foldername  labels\n",
              "23167   Hindi-6947.wav      Hindi       0\n",
              "18493   Hindi-3028.wav      Hindi       0\n",
              "18494    Hindi-515.wav      Hindi       0\n",
              "18495   Hindi-3848.wav      Hindi       0\n",
              "18496   Hindi-6296.wav      Hindi       0\n",
              "...                ...        ...     ...\n",
              "13721  Telugu-2313.wav     Telugu       3\n",
              "13722  Telugu-3158.wav     Telugu       3\n",
              "13723  Telugu-4143.wav     Telugu       3\n",
              "13712    Telugu-84.wav     Telugu       3\n",
              "11583  Telugu-3112.wav     Telugu       3\n",
              "\n",
              "[23168 rows x 3 columns]"
            ],
            "text/html": [
              "\n",
              "  <div id=\"df-20ee33bc-53a7-43de-8c71-ba1a3c3dd922\">\n",
              "    <div class=\"colab-df-container\">\n",
              "      <div>\n",
              "<style scoped>\n",
              "    .dataframe tbody tr th:only-of-type {\n",
              "        vertical-align: middle;\n",
              "    }\n",
              "\n",
              "    .dataframe tbody tr th {\n",
              "        vertical-align: top;\n",
              "    }\n",
              "\n",
              "    .dataframe thead th {\n",
              "        text-align: right;\n",
              "    }\n",
              "</style>\n",
              "<table border=\"1\" class=\"dataframe\">\n",
              "  <thead>\n",
              "    <tr style=\"text-align: right;\">\n",
              "      <th></th>\n",
              "      <th>filename</th>\n",
              "      <th>foldername</th>\n",
              "      <th>labels</th>\n",
              "    </tr>\n",
              "  </thead>\n",
              "  <tbody>\n",
              "    <tr>\n",
              "      <th>23167</th>\n",
              "      <td>Hindi-6947.wav</td>\n",
              "      <td>Hindi</td>\n",
              "      <td>0</td>\n",
              "    </tr>\n",
              "    <tr>\n",
              "      <th>18493</th>\n",
              "      <td>Hindi-3028.wav</td>\n",
              "      <td>Hindi</td>\n",
              "      <td>0</td>\n",
              "    </tr>\n",
              "    <tr>\n",
              "      <th>18494</th>\n",
              "      <td>Hindi-515.wav</td>\n",
              "      <td>Hindi</td>\n",
              "      <td>0</td>\n",
              "    </tr>\n",
              "    <tr>\n",
              "      <th>18495</th>\n",
              "      <td>Hindi-3848.wav</td>\n",
              "      <td>Hindi</td>\n",
              "      <td>0</td>\n",
              "    </tr>\n",
              "    <tr>\n",
              "      <th>18496</th>\n",
              "      <td>Hindi-6296.wav</td>\n",
              "      <td>Hindi</td>\n",
              "      <td>0</td>\n",
              "    </tr>\n",
              "    <tr>\n",
              "      <th>...</th>\n",
              "      <td>...</td>\n",
              "      <td>...</td>\n",
              "      <td>...</td>\n",
              "    </tr>\n",
              "    <tr>\n",
              "      <th>13721</th>\n",
              "      <td>Telugu-2313.wav</td>\n",
              "      <td>Telugu</td>\n",
              "      <td>3</td>\n",
              "    </tr>\n",
              "    <tr>\n",
              "      <th>13722</th>\n",
              "      <td>Telugu-3158.wav</td>\n",
              "      <td>Telugu</td>\n",
              "      <td>3</td>\n",
              "    </tr>\n",
              "    <tr>\n",
              "      <th>13723</th>\n",
              "      <td>Telugu-4143.wav</td>\n",
              "      <td>Telugu</td>\n",
              "      <td>3</td>\n",
              "    </tr>\n",
              "    <tr>\n",
              "      <th>13712</th>\n",
              "      <td>Telugu-84.wav</td>\n",
              "      <td>Telugu</td>\n",
              "      <td>3</td>\n",
              "    </tr>\n",
              "    <tr>\n",
              "      <th>11583</th>\n",
              "      <td>Telugu-3112.wav</td>\n",
              "      <td>Telugu</td>\n",
              "      <td>3</td>\n",
              "    </tr>\n",
              "  </tbody>\n",
              "</table>\n",
              "<p>23168 rows × 3 columns</p>\n",
              "</div>\n",
              "      <button class=\"colab-df-convert\" onclick=\"convertToInteractive('df-20ee33bc-53a7-43de-8c71-ba1a3c3dd922')\"\n",
              "              title=\"Convert this dataframe to an interactive table.\"\n",
              "              style=\"display:none;\">\n",
              "        \n",
              "  <svg xmlns=\"http://www.w3.org/2000/svg\" height=\"24px\"viewBox=\"0 0 24 24\"\n",
              "       width=\"24px\">\n",
              "    <path d=\"M0 0h24v24H0V0z\" fill=\"none\"/>\n",
              "    <path d=\"M18.56 5.44l.94 2.06.94-2.06 2.06-.94-2.06-.94-.94-2.06-.94 2.06-2.06.94zm-11 1L8.5 8.5l.94-2.06 2.06-.94-2.06-.94L8.5 2.5l-.94 2.06-2.06.94zm10 10l.94 2.06.94-2.06 2.06-.94-2.06-.94-.94-2.06-.94 2.06-2.06.94z\"/><path d=\"M17.41 7.96l-1.37-1.37c-.4-.4-.92-.59-1.43-.59-.52 0-1.04.2-1.43.59L10.3 9.45l-7.72 7.72c-.78.78-.78 2.05 0 2.83L4 21.41c.39.39.9.59 1.41.59.51 0 1.02-.2 1.41-.59l7.78-7.78 2.81-2.81c.8-.78.8-2.07 0-2.86zM5.41 20L4 18.59l7.72-7.72 1.47 1.35L5.41 20z\"/>\n",
              "  </svg>\n",
              "      </button>\n",
              "      \n",
              "  <style>\n",
              "    .colab-df-container {\n",
              "      display:flex;\n",
              "      flex-wrap:wrap;\n",
              "      gap: 12px;\n",
              "    }\n",
              "\n",
              "    .colab-df-convert {\n",
              "      background-color: #E8F0FE;\n",
              "      border: none;\n",
              "      border-radius: 50%;\n",
              "      cursor: pointer;\n",
              "      display: none;\n",
              "      fill: #1967D2;\n",
              "      height: 32px;\n",
              "      padding: 0 0 0 0;\n",
              "      width: 32px;\n",
              "    }\n",
              "\n",
              "    .colab-df-convert:hover {\n",
              "      background-color: #E2EBFA;\n",
              "      box-shadow: 0px 1px 2px rgba(60, 64, 67, 0.3), 0px 1px 3px 1px rgba(60, 64, 67, 0.15);\n",
              "      fill: #174EA6;\n",
              "    }\n",
              "\n",
              "    [theme=dark] .colab-df-convert {\n",
              "      background-color: #3B4455;\n",
              "      fill: #D2E3FC;\n",
              "    }\n",
              "\n",
              "    [theme=dark] .colab-df-convert:hover {\n",
              "      background-color: #434B5C;\n",
              "      box-shadow: 0px 1px 3px 1px rgba(0, 0, 0, 0.15);\n",
              "      filter: drop-shadow(0px 1px 2px rgba(0, 0, 0, 0.3));\n",
              "      fill: #FFFFFF;\n",
              "    }\n",
              "  </style>\n",
              "\n",
              "      <script>\n",
              "        const buttonEl =\n",
              "          document.querySelector('#df-20ee33bc-53a7-43de-8c71-ba1a3c3dd922 button.colab-df-convert');\n",
              "        buttonEl.style.display =\n",
              "          google.colab.kernel.accessAllowed ? 'block' : 'none';\n",
              "\n",
              "        async function convertToInteractive(key) {\n",
              "          const element = document.querySelector('#df-20ee33bc-53a7-43de-8c71-ba1a3c3dd922');\n",
              "          const dataTable =\n",
              "            await google.colab.kernel.invokeFunction('convertToInteractive',\n",
              "                                                     [key], {});\n",
              "          if (!dataTable) return;\n",
              "\n",
              "          const docLinkHtml = 'Like what you see? Visit the ' +\n",
              "            '<a target=\"_blank\" href=https://colab.research.google.com/notebooks/data_table.ipynb>data table notebook</a>'\n",
              "            + ' to learn more about interactive tables.';\n",
              "          element.innerHTML = '';\n",
              "          dataTable['output_type'] = 'display_data';\n",
              "          await google.colab.output.renderOutput(dataTable, element);\n",
              "          const docLink = document.createElement('div');\n",
              "          docLink.innerHTML = docLinkHtml;\n",
              "          element.appendChild(docLink);\n",
              "        }\n",
              "      </script>\n",
              "    </div>\n",
              "  </div>\n",
              "  "
            ]
          },
          "metadata": {},
          "execution_count": 14
        }
      ]
    },
    {
      "cell_type": "code",
      "source": [
        "# Check the mappings \n",
        "le_name_mapping = dict(zip(le.classes_, le.transform(le.classes_)))\n",
        "print(le_name_mapping)"
      ],
      "metadata": {
        "colab": {
          "base_uri": "https://localhost:8080/"
        },
        "id": "h6vQaOIzWqnU",
        "outputId": "012b0b14-4425-430e-d422-d74938a5816c"
      },
      "execution_count": null,
      "outputs": [
        {
          "output_type": "stream",
          "name": "stdout",
          "text": [
            "{'Hindi': 0, 'Kannada': 1, 'Tamil': 2, 'Telugu': 3}\n"
          ]
        }
      ]
    },
    {
      "cell_type": "code",
      "source": [
        "import torch\n",
        "from torch.utils.data import Dataset\n",
        "import pandas as pd\n",
        "import torchaudio\n",
        "import torch.nn as nn\n",
        "from torch.utils.data import DataLoader\n",
        "import torch.nn.functional as F\n",
        "from torchsummary import summary"
      ],
      "metadata": {
        "id": "4jQ8R9bnDXKM"
      },
      "execution_count": null,
      "outputs": []
    },
    {
      "cell_type": "code",
      "source": [
        "class IndianLanguageDataset(Dataset):\n",
        "    def __init__(self, annotation_file, \n",
        "                 audio_dir, \n",
        "                 transformation, \n",
        "                 target_sample_rate,\n",
        "                 num_samples\n",
        "                 ):\n",
        "        self.annotations = pd.read_csv(annotation_file)\n",
        "        self.audio_dir = audio_dir\n",
        "        self.transformation = transformation\n",
        "        self.target_sample_rate = target_sample_rate\n",
        "        self.num_samples = num_samples\n",
        "    \n",
        "    def __len__(self):\n",
        "        return len(self.annotations)\n",
        "    \n",
        "    def __getitem__(self, idx):\n",
        "        audio_sample_path = self._get_audio_sample_path(idx)\n",
        "        label = self._get_audio_sample_label(idx)\n",
        "        signal, sr = torchaudio.load(audio_sample_path)\n",
        "        signal = self._resample_if_necessary(signal, sr)\n",
        "        signal = self._mix_down_if_necessary(signal)\n",
        "        signal = self._cut_if_necessary(signal)\n",
        "        signal = self._right_pad_if_necessary(signal)\n",
        "        signal = self.transformation(signal)\n",
        "        return signal, label\n",
        "    \n",
        "    def _cut_if_necessary(self, signal):\n",
        "        if signal.shape[1] > self.num_samples:\n",
        "            signal = signal[:, :self.num_samples]\n",
        "        return signal\n",
        "    \n",
        "    def _right_pad_if_necessary(self, signal):\n",
        "        length_signal = signal.shape[1]\n",
        "        if length_signal < self.num_samples:\n",
        "            num_missing = self.num_samples - length_signal\n",
        "            last_dim_padding = (0, num_missing)\n",
        "            signal = torch.nn.functional.pad(signal, last_dim_padding)\n",
        "        return signal\n",
        "        \n",
        "    def _resample_if_necessary(self, signal, sr):\n",
        "        if sr != self.target_sample_rate:\n",
        "            resampler = torchaudio.transforms.Resample(sr, self.target_sample_rate)\n",
        "            signal = resampler(signal)\n",
        "        return signal\n",
        "    \n",
        "    def _mix_down_if_necessary(self, signal):\n",
        "        if signal.shape[0] > 1:\n",
        "            signal = torch.mean(signal, dim = 0, keepdim=True)\n",
        "        return signal\n",
        "     \n",
        "    def _get_audio_sample_path(self, idx):\n",
        "        class_name = f\"{self.annotations.iloc[idx, 1]}\"\n",
        "        path = os.path.join(self.audio_dir, class_name, self.annotations.iloc[idx, 0])\n",
        "        return path\n",
        "    \n",
        "    def _get_audio_sample_label(self, idx):\n",
        "        return self.annotations.iloc[idx, 2]"
      ],
      "metadata": {
        "id": "I0xp-O5ZW0Zs"
      },
      "execution_count": null,
      "outputs": []
    },
    {
      "cell_type": "markdown",
      "source": [
        "## Transformations"
      ],
      "metadata": {
        "id": "SZAzutv9Zr3V"
      }
    },
    {
      "cell_type": "code",
      "source": [
        "SAMPLE_RATE = 4000\n",
        "NUM_SAMPLES = 20000\n",
        "\n",
        "mel_spectrogram = torchaudio.transforms.MelSpectrogram(\n",
        "    sample_rate = SAMPLE_RATE,\n",
        "    n_fft = 1024,\n",
        "    hop_length=512,\n",
        "    n_mels = 64\n",
        ")"
      ],
      "metadata": {
        "id": "7428iD0XZs7a"
      },
      "execution_count": null,
      "outputs": []
    },
    {
      "cell_type": "code",
      "source": [
        "ild = IndianLanguageDataset(annotation_file='metadata.csv', \n",
        "                            audio_dir=wav_dir, \n",
        "                            target_sample_rate=SAMPLE_RATE, \n",
        "                            transformation=mel_spectrogram,\n",
        "                            num_samples=NUM_SAMPLES\n",
        "                            )\n",
        "print(f\"there are {len(ild)} samples in the dataset\")\n",
        "signal, label = ild[0]"
      ],
      "metadata": {
        "colab": {
          "base_uri": "https://localhost:8080/"
        },
        "id": "A4O407Z-Zv6b",
        "outputId": "ac77db12-3ef8-482c-e85b-f89dd5aa90e5"
      },
      "execution_count": null,
      "outputs": [
        {
          "output_type": "stream",
          "name": "stdout",
          "text": [
            "there are 23168 samples in the dataset\n"
          ]
        }
      ]
    },
    {
      "cell_type": "code",
      "source": [
        "print(f'signal:{signal.shape} \\n label: {label}')"
      ],
      "metadata": {
        "colab": {
          "base_uri": "https://localhost:8080/"
        },
        "id": "o5kT3VkDCFxY",
        "outputId": "0ba52e99-2171-4b8a-945d-12bd989dd8d9"
      },
      "execution_count": null,
      "outputs": [
        {
          "output_type": "stream",
          "name": "stdout",
          "text": [
            "signal:torch.Size([1, 64, 40]) \n",
            " label: 0\n"
          ]
        }
      ]
    },
    {
      "cell_type": "markdown",
      "source": [
        "## GPU Functions "
      ],
      "metadata": {
        "id": "qQvJDTlECmks"
      }
    },
    {
      "cell_type": "code",
      "source": [
        "def get_default_device():\n",
        "    \"\"\"Pick GPU if available, else CPU\"\"\"\n",
        "    if torch.cuda.is_available():\n",
        "        return torch.device('cuda')\n",
        "    else:\n",
        "        return torch.device('cpu')\n",
        "    \n",
        "def to_device(data, device):\n",
        "    \"\"\"Move tensor(s) to chosen device\"\"\"\n",
        "    if isinstance(data, (list,tuple)):\n",
        "        return [to_device(x, device) for x in data]\n",
        "    return data.to(device, non_blocking=True)\n",
        "\n",
        "class DeviceDataLoader():\n",
        "    \"\"\"Wrap a pytorch Dataloader to move data to a device\"\"\"\n",
        "    def __init__(self, dl, device):\n",
        "        self.dl = dl\n",
        "        self.device = device\n",
        "        \n",
        "    def __iter__(self):\n",
        "        \"\"\"Yield a batch of data after moving it to device\"\"\"\n",
        "        for b in self.dl: \n",
        "            yield to_device(b, self.device)\n",
        "\n",
        "    def __len__(self):\n",
        "        \"\"\"Number of batches\"\"\"\n",
        "        return len(self.dl)"
      ],
      "metadata": {
        "id": "K7WQ9xoFvnSW"
      },
      "execution_count": null,
      "outputs": []
    },
    {
      "cell_type": "code",
      "source": [
        "class ImageClassificationBase(nn.Module):\n",
        "    def training_step(self, batch):\n",
        "        images, labels = batch \n",
        "        out = self(images)                  # Generate predictions\n",
        "        loss = F.cross_entropy(out, labels) # Calculate loss\n",
        "        return loss\n",
        "    \n",
        "    def validation_step(self, batch):\n",
        "        images, labels = batch \n",
        "        out = self(images)                    # Generate predictions\n",
        "        loss = F.cross_entropy(out, labels)   # Calculate loss\n",
        "        acc = accuracy(out, labels)           # Calculate accuracy\n",
        "        return {'val_loss': loss.detach(), 'val_acc': acc}\n",
        "        \n",
        "    def validation_epoch_end(self, outputs):\n",
        "        batch_losses = [x['val_loss'] for x in outputs]\n",
        "        epoch_loss = torch.stack(batch_losses).mean()   # Combine losses\n",
        "        batch_accs = [x['val_acc'] for x in outputs]\n",
        "        epoch_acc = torch.stack(batch_accs).mean()      # Combine accuracies\n",
        "        return {'val_loss': epoch_loss.item(), 'val_acc': epoch_acc.item()}\n",
        "    \n",
        "    def epoch_end(self, epoch, result):\n",
        "        print(\"Epoch [{}], train_loss: {:.4f}, val_loss: {:.4f}, val_acc: {:.4f}\".format(\n",
        "            epoch, result['train_loss'], result['val_loss'], result['val_acc']))\n",
        "        \n",
        "def accuracy(outputs, labels):\n",
        "    _, preds = torch.max(outputs, dim=1)\n",
        "    return torch.tensor(torch.sum(preds == labels).item() / len(preds))"
      ],
      "metadata": {
        "id": "8qvseNRqCqep"
      },
      "execution_count": null,
      "outputs": []
    },
    {
      "cell_type": "markdown",
      "source": [
        "## Build Model Architecture"
      ],
      "metadata": {
        "id": "M4w8WnzxEWSN"
      }
    },
    {
      "cell_type": "code",
      "source": [
        "class CNNNetwork(ImageClassificationBase):\n",
        "  def __init__(self, in_channels, num_classes):\n",
        "    super().__init__()\n",
        "    self.conv1 = self.conv_block(in_channels, 16, pool=True) # 16 x 30 x 20\n",
        "    self.conv2 = self.conv_block(16, 32, pool=True) # 32 x 15 x 10\n",
        "    self.conv3 = self.conv_block(32, 64, pool=True) # 64 x 7 x 5\n",
        "    self.conv4 = self.conv_block(64, 128, pool=True) # 128 x 4 x 3\n",
        "    self.flatten = nn.Flatten()\n",
        "    self.dropout = nn.Dropout(0.2)\n",
        "    self.linear = nn.Linear(128 * 5 * 4, num_classes)\n",
        "    self.softmax = nn.Softmax(dim=1)\n",
        "  \n",
        "  @staticmethod\n",
        "  def conv_block(in_channels, out_channels, pool=False):\n",
        "    layers = [nn.Conv2d(in_channels, out_channels, kernel_size=3, stride=1, padding=2), \n",
        "              nn.BatchNorm2d(out_channels), \n",
        "              nn.ReLU(inplace=True)]\n",
        "    if pool: layers.append(nn.MaxPool2d(kernel_size=2))\n",
        "    return nn.Sequential(*layers) \n",
        "\n",
        "  def forward(self, input_data):\n",
        "    out = self.conv1(input_data)\n",
        "    out = self.conv2(out)\n",
        "    out = self.conv3(out)\n",
        "    out = self.conv4(out)\n",
        "    out = self.flatten(out)\n",
        "    out = self.dropout(out)\n",
        "    logits = self.linear(out)\n",
        "    predictions = self.softmax(logits)\n",
        "    return predictions"
      ],
      "metadata": {
        "id": "EY8i-FzqEa0Z"
      },
      "execution_count": null,
      "outputs": []
    },
    {
      "cell_type": "code",
      "source": [
        "cnn = CNNNetwork(1, 4)\n",
        "summary(cnn.cuda(), (1,64, 40))"
      ],
      "metadata": {
        "colab": {
          "base_uri": "https://localhost:8080/"
        },
        "id": "36J8ultVEasA",
        "outputId": "bf720360-e18c-4fbb-c394-de8b67a575bf"
      },
      "execution_count": null,
      "outputs": [
        {
          "output_type": "stream",
          "name": "stdout",
          "text": [
            "----------------------------------------------------------------\n",
            "        Layer (type)               Output Shape         Param #\n",
            "================================================================\n",
            "            Conv2d-1           [-1, 16, 66, 42]             160\n",
            "       BatchNorm2d-2           [-1, 16, 66, 42]              32\n",
            "              ReLU-3           [-1, 16, 66, 42]               0\n",
            "         MaxPool2d-4           [-1, 16, 33, 21]               0\n",
            "            Conv2d-5           [-1, 32, 35, 23]           4,640\n",
            "       BatchNorm2d-6           [-1, 32, 35, 23]              64\n",
            "              ReLU-7           [-1, 32, 35, 23]               0\n",
            "         MaxPool2d-8           [-1, 32, 17, 11]               0\n",
            "            Conv2d-9           [-1, 64, 19, 13]          18,496\n",
            "      BatchNorm2d-10           [-1, 64, 19, 13]             128\n",
            "             ReLU-11           [-1, 64, 19, 13]               0\n",
            "        MaxPool2d-12             [-1, 64, 9, 6]               0\n",
            "           Conv2d-13           [-1, 128, 11, 8]          73,856\n",
            "      BatchNorm2d-14           [-1, 128, 11, 8]             256\n",
            "             ReLU-15           [-1, 128, 11, 8]               0\n",
            "        MaxPool2d-16            [-1, 128, 5, 4]               0\n",
            "          Flatten-17                 [-1, 2560]               0\n",
            "          Dropout-18                 [-1, 2560]               0\n",
            "           Linear-19                    [-1, 4]          10,244\n",
            "          Softmax-20                    [-1, 4]               0\n",
            "================================================================\n",
            "Total params: 107,876\n",
            "Trainable params: 107,876\n",
            "Non-trainable params: 0\n",
            "----------------------------------------------------------------\n",
            "Input size (MB): 0.01\n",
            "Forward/backward pass size (MB): 2.44\n",
            "Params size (MB): 0.41\n",
            "Estimated Total Size (MB): 2.86\n",
            "----------------------------------------------------------------\n"
          ]
        }
      ]
    },
    {
      "cell_type": "code",
      "source": [
        "torch.cuda.get_device_name()"
      ],
      "metadata": {
        "colab": {
          "base_uri": "https://localhost:8080/",
          "height": 36
        },
        "id": "hEci5PllX0kw",
        "outputId": "85eee0e9-6d85-48b7-d5f8-45dff55adb3a"
      },
      "execution_count": null,
      "outputs": [
        {
          "output_type": "execute_result",
          "data": {
            "text/plain": [
              "'A100-SXM4-40GB'"
            ],
            "application/vnd.google.colaboratory.intrinsic+json": {
              "type": "string"
            }
          },
          "metadata": {},
          "execution_count": 121
        }
      ]
    },
    {
      "cell_type": "code",
      "source": [
        "@torch.no_grad()\n",
        "\n",
        "def evaluate(model, val_loader):\n",
        "    model.eval()\n",
        "    outputs = [model.validation_step(batch) for batch in val_loader]\n",
        "    return model.validation_epoch_end(outputs)\n",
        "\n",
        "def fit(epochs, lr, model, train_loader, val_loader, opt_func):\n",
        "    history = []\n",
        "    optimizer = opt_func(model.parameters(), lr)\n",
        "    for epoch in range(epochs):\n",
        "        # Training Phase \n",
        "        model.train()\n",
        "        train_losses = []\n",
        "        for batch in train_loader:\n",
        "            loss = model.training_step(batch)\n",
        "            train_losses.append(loss)\n",
        "            loss.backward()\n",
        "            optimizer.step()\n",
        "            optimizer.zero_grad()\n",
        "        # Validation phase\n",
        "        result = evaluate(model, val_loader)\n",
        "        result['train_loss'] = torch.stack(train_losses).mean().item()\n",
        "        model.epoch_end(epoch, result)\n",
        "        history.append(result)\n",
        "    return history"
      ],
      "metadata": {
        "id": "MjjGQGSkbnAv"
      },
      "execution_count": null,
      "outputs": []
    },
    {
      "cell_type": "markdown",
      "source": [
        "## Train the model"
      ],
      "metadata": {
        "id": "-2azZHAvcaqy"
      }
    },
    {
      "cell_type": "code",
      "source": [
        "# stratified shuffle split\n",
        "from sklearn.model_selection import StratifiedShuffleSplit\n",
        "\n",
        "split = StratifiedShuffleSplit(n_splits=5,train_size= 0.7, test_size=0.3, random_state=42)\n",
        "for train_index, test_index in split.split(metadata, metadata['labels']):\n",
        "    strat_train_set = metadata.loc[train_index]\n",
        "    strat_val_set = metadata.loc[test_index]\n",
        "\n",
        "strat_train_set.to_csv('metadata_train.csv', index=False)\n",
        "strat_val_set.to_csv('metadata_test.csv', index=False)"
      ],
      "metadata": {
        "id": "X5HnJGmBeD1D"
      },
      "execution_count": null,
      "outputs": []
    },
    {
      "cell_type": "code",
      "source": [
        "LEARNING_RATE = 0.001\n",
        "SAMPLE_RATE = 4000\n",
        "NUM_SAMPLES = 20000\n",
        "BATCH_SIZE = 64\n",
        "EPOCHS = 30\n",
        "\n",
        "# load adam optimizer\n",
        "optimiser = torch.optim.Adam\n",
        "\n",
        "# load mel_spectrogram transformation\n",
        "mel_spectrogram = torchaudio.transforms.MelSpectrogram(\n",
        "    sample_rate = SAMPLE_RATE,\n",
        "    n_fft = 1024,\n",
        "    hop_length=512,\n",
        "    n_mels = 64\n",
        ")\n",
        "\n",
        "train_lang_data = IndianLanguageDataset(annotation_file='metadata_train.csv',\n",
        "                                        audio_dir = wav_dir,\n",
        "                                        target_sample_rate=SAMPLE_RATE, \n",
        "                                        transformation=mel_spectrogram,\n",
        "                                        num_samples=NUM_SAMPLES\n",
        "                                        )\n",
        "\n",
        "test_lang_data = IndianLanguageDataset(annotation_file='metadata_test.csv',\n",
        "                                       audio_dir= wav_dir,\n",
        "                                       target_sample_rate=SAMPLE_RATE,\n",
        "                                       transformation=mel_spectrogram,\n",
        "                                       num_samples=NUM_SAMPLES\n",
        "                                       )\n",
        "\n",
        "# dataloaders\n",
        "train_dl = DataLoader(train_lang_data, \n",
        "                      BATCH_SIZE, \n",
        "                      shuffle=True, \n",
        "                      num_workers=4, \n",
        "                      pin_memory=True\n",
        "                     )\n",
        "val_dl = DataLoader(test_lang_data\n",
        "                    ,BATCH_SIZE*2,\n",
        "                    num_workers=4,\n",
        "                    pin_memory=True\n",
        "                    )"
      ],
      "metadata": {
        "id": "X1xoFgZ_cWkZ"
      },
      "execution_count": null,
      "outputs": []
    },
    {
      "cell_type": "code",
      "source": [
        "# get default device\n",
        "device = get_default_device()\n",
        "\n",
        "# move model to device\n",
        "model = to_device(CNNNetwork(1, 4), device)\n",
        "\n",
        "# Use the wrapper class to load data to the device\n",
        "train_dl = DeviceDataLoader(train_dl, device)\n",
        "val_dl = DeviceDataLoader(val_dl, device)"
      ],
      "metadata": {
        "id": "QwspMubkarJr"
      },
      "execution_count": null,
      "outputs": []
    },
    {
      "cell_type": "code",
      "source": [
        "# get validation accuracy for default random weights and bias(model)\n",
        "evaluate(model, val_dl)"
      ],
      "metadata": {
        "colab": {
          "base_uri": "https://localhost:8080/"
        },
        "id": "YVHPd0mdeIpZ",
        "outputId": "113badd3-db89-433e-b3fc-076645cf0fb9"
      },
      "execution_count": null,
      "outputs": [
        {
          "output_type": "execute_result",
          "data": {
            "text/plain": [
              "{'val_loss': 1.6236017942428589, 'val_acc': 0.13972902297973633}"
            ]
          },
          "metadata": {},
          "execution_count": 126
        }
      ]
    },
    {
      "cell_type": "markdown",
      "source": [
        "#### Train the model for 30 epochs"
      ],
      "metadata": {
        "id": "NV4dlbfkg5mF"
      }
    },
    {
      "cell_type": "code",
      "source": [
        "history = fit(EPOCHS, LEARNING_RATE, model, train_dl, val_dl, optimiser)"
      ],
      "metadata": {
        "colab": {
          "base_uri": "https://localhost:8080/"
        },
        "id": "WOI40Gwbgpsb",
        "outputId": "45fe5d4a-30d3-41b9-99ad-caac00f7b5eb"
      },
      "execution_count": null,
      "outputs": [
        {
          "output_type": "stream",
          "name": "stdout",
          "text": [
            "Epoch [0], train_loss: 0.9492, val_loss: 0.8450, val_acc: 0.9009\n",
            "Epoch [1], train_loss: 0.8342, val_loss: 0.8517, val_acc: 0.8901\n",
            "Epoch [2], train_loss: 0.8158, val_loss: 0.8285, val_acc: 0.9158\n",
            "Epoch [3], train_loss: 0.8067, val_loss: 0.8186, val_acc: 0.9233\n",
            "Epoch [4], train_loss: 0.8060, val_loss: 0.8136, val_acc: 0.9304\n",
            "Epoch [5], train_loss: 0.8005, val_loss: 0.7982, val_acc: 0.9460\n",
            "Epoch [6], train_loss: 0.7972, val_loss: 0.8085, val_acc: 0.9341\n",
            "Epoch [7], train_loss: 0.7966, val_loss: 0.8035, val_acc: 0.9388\n",
            "Epoch [8], train_loss: 0.7974, val_loss: 0.9030, val_acc: 0.8351\n",
            "Epoch [9], train_loss: 0.7930, val_loss: 0.8002, val_acc: 0.9440\n",
            "Epoch [10], train_loss: 0.7902, val_loss: 0.8418, val_acc: 0.9004\n",
            "Epoch [11], train_loss: 0.7888, val_loss: 0.7950, val_acc: 0.9486\n",
            "Epoch [12], train_loss: 0.7884, val_loss: 0.7936, val_acc: 0.9502\n",
            "Epoch [13], train_loss: 0.7869, val_loss: 0.8026, val_acc: 0.9375\n",
            "Epoch [14], train_loss: 0.7869, val_loss: 0.7964, val_acc: 0.9475\n",
            "Epoch [15], train_loss: 0.7849, val_loss: 0.7857, val_acc: 0.9577\n",
            "Epoch [16], train_loss: 0.7860, val_loss: 0.7930, val_acc: 0.9500\n",
            "Epoch [17], train_loss: 0.7884, val_loss: 0.7932, val_acc: 0.9496\n",
            "Epoch [18], train_loss: 0.7838, val_loss: 0.7894, val_acc: 0.9546\n",
            "Epoch [19], train_loss: 0.7845, val_loss: 0.7923, val_acc: 0.9509\n",
            "Epoch [20], train_loss: 0.7842, val_loss: 0.7882, val_acc: 0.9551\n",
            "Epoch [21], train_loss: 0.7831, val_loss: 0.7893, val_acc: 0.9548\n",
            "Epoch [22], train_loss: 0.7837, val_loss: 0.8078, val_acc: 0.9362\n",
            "Epoch [23], train_loss: 0.7837, val_loss: 0.7887, val_acc: 0.9547\n",
            "Epoch [24], train_loss: 0.7818, val_loss: 0.7900, val_acc: 0.9522\n",
            "Epoch [25], train_loss: 0.7816, val_loss: 0.7862, val_acc: 0.9580\n",
            "Epoch [26], train_loss: 0.7801, val_loss: 0.8132, val_acc: 0.9310\n",
            "Epoch [27], train_loss: 0.7763, val_loss: 0.7824, val_acc: 0.9615\n",
            "Epoch [28], train_loss: 0.7748, val_loss: 0.7860, val_acc: 0.9579\n",
            "Epoch [29], train_loss: 0.7747, val_loss: 0.7911, val_acc: 0.9520\n"
          ]
        }
      ]
    },
    {
      "cell_type": "code",
      "source": [
        "# save model\n",
        "torch.save(model.state_dict(), \"model.pth\")\n",
        "print(\"Trained feed forward net saved at model.pth\")"
      ],
      "metadata": {
        "colab": {
          "base_uri": "https://localhost:8080/"
        },
        "id": "Xg0cPvWgrx5Z",
        "outputId": "0cb7d948-e605-40da-9a01-edf672398265"
      },
      "execution_count": null,
      "outputs": [
        {
          "output_type": "stream",
          "name": "stdout",
          "text": [
            "Trained feed forward net saved at model.pth\n"
          ]
        }
      ]
    },
    {
      "cell_type": "markdown",
      "source": [
        "## Prediction"
      ],
      "metadata": {
        "id": "jeX4ezQlpJAb"
      }
    },
    {
      "cell_type": "code",
      "source": [
        "class_mapping = ['Hindi',\n",
        "                 'Kannada',\n",
        "                 'Tamil',\n",
        "                 'Telugu']\n",
        "\n",
        "\n",
        "def predict(model, input, target, class_mapping):\n",
        "    model.eval()\n",
        "    with torch.no_grad():\n",
        "        predictions = model(input)\n",
        "        predicted_index = predictions[0].argmax(0)\n",
        "        predicted = class_mapping[predicted_index]\n",
        "        expected = class_mapping[target]\n",
        "    return predicted, expected"
      ],
      "metadata": {
        "id": "sYeDlNtzovlb"
      },
      "execution_count": null,
      "outputs": []
    },
    {
      "cell_type": "code",
      "source": [
        "# load back the model\n",
        "state_dict = torch.load(\"model.pth\")\n",
        "model.load_state_dict(state_dict)\n",
        "\n",
        "# get a sample from the urban sound dataset for inference\n",
        "\n",
        "torch.device('cpu')\n",
        "model.to(device='cpu')\n",
        "testinput, target = test_lang_data[1][0], test_lang_data[1][1] # [batch size, num_channels, fr, time]\n",
        "testinput.unsqueeze_(0)\n",
        "\n",
        "\n",
        "# make an inference\n",
        "predicted, expected = predict(model, testinput, target, class_mapping)\n",
        "print(f\"Predicted: '{predicted}', expected: '{expected}'\")"
      ],
      "metadata": {
        "colab": {
          "base_uri": "https://localhost:8080/"
        },
        "id": "zLPAVhSzppmJ",
        "outputId": "25c9b419-486f-40dd-dd6b-33cde182a97a"
      },
      "execution_count": null,
      "outputs": [
        {
          "output_type": "stream",
          "name": "stdout",
          "text": [
            "Predicted: 'Tamil', expected: 'Tamil'\n"
          ]
        }
      ]
    },
    {
      "cell_type": "markdown",
      "source": [
        "## Plot accuracy"
      ],
      "metadata": {
        "id": "xA5BTLO5hPvd"
      }
    },
    {
      "cell_type": "code",
      "source": [
        "def plot_accuracies(history):\n",
        "    accuracies = [x['val_acc'] for x in history]\n",
        "    plt.plot(accuracies, '-x')\n",
        "    plt.xlabel('epoch')\n",
        "    plt.ylabel('accuracy')\n",
        "    plt.title('Accuracy vs. No. of epochs');"
      ],
      "metadata": {
        "id": "xDi8d0eZhIBR"
      },
      "execution_count": null,
      "outputs": []
    },
    {
      "cell_type": "code",
      "source": [
        "plot_accuracies(history)"
      ],
      "metadata": {
        "colab": {
          "base_uri": "https://localhost:8080/",
          "height": 295
        },
        "id": "Sl9JELv9hVMJ",
        "outputId": "a064024b-16db-48ec-b6cb-6ba1e65f5e05"
      },
      "execution_count": null,
      "outputs": [
        {
          "output_type": "display_data",
          "data": {
            "text/plain": [
              "<Figure size 432x288 with 1 Axes>"
            ],
            "image/png": "[encoded data removed]"
          },
          "metadata": {
            "needs_background": "light"
          }
        }
      ]
    },
    {
      "cell_type": "code",
      "source": [
        "own_voice = {}\n",
        "own_voice['filename'] = ['own_1.wav']\n",
        "own_voice['foldername'] = ['Tamil']\n",
        "own_voice['labels'] = [2]\n",
        "pd.DataFrame.from_dict(own_voice).to_csv('own.csv', index=False)"
      ],
      "metadata": {
        "id": "CGtjzHdNhV27"
      },
      "execution_count": null,
      "outputs": []
    },
    {
      "cell_type": "code",
      "source": [
        "own_voice"
      ],
      "metadata": {
        "colab": {
          "base_uri": "https://localhost:8080/"
        },
        "id": "MLZQdbXv0gEx",
        "outputId": "3dfbda9e-42e5-48ce-e0fd-8301b2bacb67"
      },
      "execution_count": null,
      "outputs": [
        {
          "output_type": "execute_result",
          "data": {
            "text/plain": [
              "{'filename': ['own_1.wav'], 'foldername': ['Tamil'], 'labels': [2]}"
            ]
          },
          "metadata": {},
          "execution_count": 187
        }
      ]
    },
    {
      "cell_type": "code",
      "source": [
        "test_1 = test_lang_data = IndianLanguageDataset(annotation_file='own.csv',\n",
        "                                       audio_dir= '/content/own',\n",
        "                                       target_sample_rate=SAMPLE_RATE,\n",
        "                                       transformation=mel_spectrogram,\n",
        "                                       num_samples=NUM_SAMPLES\n",
        "                                       )"
      ],
      "metadata": {
        "id": "1lwr3iQOzZJT"
      },
      "execution_count": null,
      "outputs": []
    },
    {
      "cell_type": "code",
      "source": [
        "testinput, target = test_lang_data[0][0], test_lang_data[0][1]\n",
        "testinput.unsqueeze_(0)\n",
        "\n",
        "predicted, expected = predict(model, testinput, target, class_mapping)\n",
        "print(f\"Predicted: '{predicted}', expected: '{expected}'\")"
      ],
      "metadata": {
        "colab": {
          "base_uri": "https://localhost:8080/"
        },
        "id": "0w3JG_U515Tn",
        "outputId": "f98ea55d-84e0-4ff2-ce64-13fe8e87cdca"
      },
      "execution_count": null,
      "outputs": [
        {
          "output_type": "stream",
          "name": "stdout",
          "text": [
            "Predicted: 'Telugu', expected: 'Tamil'\n"
          ]
        }
      ]
    },
    {
      "cell_type": "code",
      "source": [
        "model.eval()\n",
        "with torch.no_grad():\n",
        "    predictions = model(testinput)\n",
        "    predicted_index = predictions[0].argmax(0)\n",
        "    predicted = class_mapping[predicted_index]\n",
        "    expected = class_mapping[target]"
      ],
      "metadata": {
        "id": "YatnaWXv2F1c"
      },
      "execution_count": null,
      "outputs": []
    },
    {
      "cell_type": "code",
      "source": [
        "predicted_index"
      ],
      "metadata": {
        "colab": {
          "base_uri": "https://localhost:8080/"
        },
        "id": "A0MzsDZk2a-r",
        "outputId": "8f38810e-fd37-45a2-bbf4-959423d788d1"
      },
      "execution_count": null,
      "outputs": [
        {
          "output_type": "execute_result",
          "data": {
            "text/plain": [
              "tensor(3)"
            ]
          },
          "metadata": {},
          "execution_count": 176
        }
      ]
    },
    {
      "cell_type": "code",
      "source": [
        "expected"
      ],
      "metadata": {
        "colab": {
          "base_uri": "https://localhost:8080/",
          "height": 36
        },
        "id": "99d_t9yJ2cNs",
        "outputId": "1e1b3056-8c9d-48d4-e9a1-863853f9695b"
      },
      "execution_count": null,
      "outputs": [
        {
          "output_type": "execute_result",
          "data": {
            "text/plain": [
              "'Tamil'"
            ],
            "application/vnd.google.colaboratory.intrinsic+json": {
              "type": "string"
            }
          },
          "metadata": {},
          "execution_count": 175
        }
      ]
    },
    {
      "cell_type": "code",
      "source": [],
      "metadata": {
        "id": "7c52zN6A2dkz"
      },
      "execution_count": null,
      "outputs": []
    }
  ]
}
